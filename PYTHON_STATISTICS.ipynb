{
 "cells": [
  {
   "cell_type": "markdown",
   "metadata": {},
   "source": [
    "# MEAN MEDIAN MODE GENERAL FORMAT"
   ]
  },
  {
   "cell_type": "code",
   "execution_count": 3,
   "metadata": {},
   "outputs": [
    {
     "name": "stdout",
     "output_type": "stream",
     "text": [
      "10\n",
      "1 1 1 2 2 3 4 4 5 1\n",
      "2.4\n",
      "2.0\n",
      "1\n"
     ]
    }
   ],
   "source": [
    "def mean_function(x,n):\n",
    "    sum=0\n",
    "    for i in range(0,n):\n",
    "        sum = sum+x[i]\n",
    "    return round(sum/n,1)\n",
    "\n",
    "def median_function(x,n):\n",
    "    x.sort()\n",
    "    if n%2!=0:\n",
    "        return round(x[(n//2)],1)\n",
    "    else:\n",
    "        temp1=(x[(n//2)-1]+x[(n//2)])/2\n",
    "        temp = round(temp1,1)\n",
    "        return temp\n",
    "\n",
    "def mode_function(x,n):\n",
    "    x.sort()\n",
    "    x_set=set(x)\n",
    "    l2=list(x_set)\n",
    "    l2.sort()\n",
    "    temp=list()\n",
    "    for i in range(0,len(x_set)):\n",
    "        temp.append(x.count(l2[i]))\n",
    "    ind=temp.index(max(temp))\n",
    "    return l2[ind]\n",
    "\n",
    "if __name__==\"__main__\":\n",
    "    N = int(input())\n",
    "    input_list=input()\n",
    "    user_list=list(map(int,input_list.split()))\n",
    "    mean=mean_function(user_list,N)\n",
    "    print(mean)\n",
    "    median=median_function(user_list,N)\n",
    "    print(median)\n",
    "    mode=mode_function(user_list,N)\n",
    "    print(mode)"
   ]
  },
  {
   "cell_type": "markdown",
   "metadata": {},
   "source": [
    "# MEAN MEDIAN MODE USING NUMPY AND SCIPY"
   ]
  },
  {
   "cell_type": "code",
   "execution_count": 15,
   "metadata": {},
   "outputs": [
    {
     "name": "stdout",
     "output_type": "stream",
     "text": [
      "10\n",
      "1 1 1 2 2 3 4 5 5 5\n",
      "2.9\n",
      "2.5\n",
      "1\n"
     ]
    }
   ],
   "source": [
    "import numpy as np\n",
    "from scipy import stats\n",
    "n=int(input())\n",
    "x=list(map(int,input().split()))\n",
    "print(np.mean(x))\n",
    "print(np.median(x))\n",
    "print(int(stats.mode(x)[0]))"
   ]
  },
  {
   "cell_type": "markdown",
   "metadata": {},
   "source": [
    "# WEIGHTED MEAN OR WEIGHTED AVERAGE GENERAL"
   ]
  },
  {
   "cell_type": "code",
   "execution_count": 9,
   "metadata": {},
   "outputs": [
    {
     "name": "stdout",
     "output_type": "stream",
     "text": [
      "1\n",
      "1\n",
      "2\n",
      "1.0\n"
     ]
    }
   ],
   "source": [
    "def weighted_mean(e,w):\n",
    "    sum=0\n",
    "    den=0\n",
    "    total=0.0\n",
    "    for i in range(0,len(e)):\n",
    "        sum += e[i]*w[i]\n",
    "        den += w[i]\n",
    "    total=sum/den\n",
    "    return round(total,1)\n",
    "\n",
    "\n",
    "if __name__==\"__main__\":\n",
    "    n=int(input())\n",
    "    elements=list(map(int,input().split()))\n",
    "    weights=list(map(int,input().split()))\n",
    "    print(weighted_mean(elements,weights))"
   ]
  },
  {
   "cell_type": "code",
   "execution_count": 11,
   "metadata": {},
   "outputs": [
    {
     "name": "stdout",
     "output_type": "stream",
     "text": [
      "1\n",
      "1\n",
      "2\n",
      "1.0\n"
     ]
    }
   ],
   "source": [
    "size= int(input())\n",
    "x= list(map(int,input().split()))\n",
    "w=[ int(i) for i in input().split()]\n",
    "cross_p=sum(i*j for i,j in zip(x,w))\n",
    "print(round(cross_p/sum(w),1))"
   ]
  },
  {
   "cell_type": "markdown",
   "metadata": {},
   "source": [
    "# WEIGHTED MEAN OR WEIGHTED AVERAGE NUMPY"
   ]
  },
  {
   "cell_type": "code",
   "execution_count": 24,
   "metadata": {},
   "outputs": [
    {
     "name": "stdout",
     "output_type": "stream",
     "text": [
      "2.125\n"
     ]
    }
   ],
   "source": [
    "import numpy as np\n",
    "l1=[1,2,3]\n",
    "w=[1,5,2]\n",
    "'''multidimensional array axis'''\n",
    "print(np.average(l1,axis=0,weights=w))"
   ]
  },
  {
   "cell_type": "markdown",
   "metadata": {},
   "source": [
    "# Quartiles general"
   ]
  },
  {
   "cell_type": "code",
   "execution_count": 2,
   "metadata": {},
   "outputs": [
    {
     "name": "stdout",
     "output_type": "stream",
     "text": [
      "10\n",
      "3 5 7 8 12 14 14 15 18 21\n",
      "6.0\n",
      "13.0\n",
      "16.5\n"
     ]
    }
   ],
   "source": [
    "def median_function(a,b):\n",
    "    l1=list()\n",
    "    l2=list()\n",
    "    result=list()\n",
    "    if a%2!=0:\n",
    "        temp=b[a//2]\n",
    "        l1=b[:a//2]\n",
    "        l2=b[(a//2)+1:]\n",
    "        result=[temp,l1,l2]\n",
    "        return result\n",
    "    else:\n",
    "        temp=(b[(a//2)-1]+b[a//2])/2\n",
    "        l1=b[:(a//2)]\n",
    "        l2=b[(a//2):]\n",
    "        result=[temp,l1,l2]\n",
    "        return result\n",
    "\n",
    "if __name__==\"__main__\":\n",
    "    n=int(input())\n",
    "    x=list(map(int,input().split()))\n",
    "    x.sort()\n",
    "    q2=list()\n",
    "    q2=median_function(n,x)\n",
    "    q1=median_function(len(q2[1]),q2[1])\n",
    "    q3=median_function(len(q2[2]),q2[2])\n",
    "    print(round(q1[0],1))\n",
    "    print(round(q2[0],1))\n",
    "    print(round(q3[0],1))"
   ]
  },
  {
   "cell_type": "markdown",
   "metadata": {},
   "source": [
    "# Quartiles median function"
   ]
  },
  {
   "cell_type": "code",
   "execution_count": 4,
   "metadata": {},
   "outputs": [
    {
     "name": "stdout",
     "output_type": "stream",
     "text": [
      "10\n",
      "3\n",
      "3\n",
      "3\n"
     ]
    },
    {
     "ename": "StatisticsError",
     "evalue": "no median for empty data",
     "output_type": "error",
     "traceback": [
      "\u001b[1;31m---------------------------------------------------------------------------\u001b[0m",
      "\u001b[1;31mStatisticsError\u001b[0m                           Traceback (most recent call last)",
      "\u001b[1;32m<ipython-input-4-afce422b8884>\u001b[0m in \u001b[0;36m<module>\u001b[1;34m\u001b[0m\n\u001b[0;32m      5\u001b[0m \u001b[0mprint\u001b[0m\u001b[1;33m(\u001b[0m\u001b[0mint\u001b[0m\u001b[1;33m(\u001b[0m\u001b[0mmedian\u001b[0m\u001b[1;33m(\u001b[0m\u001b[0mx\u001b[0m\u001b[1;33m[\u001b[0m\u001b[1;33m:\u001b[0m\u001b[0mn\u001b[0m\u001b[1;33m//\u001b[0m\u001b[1;36m2\u001b[0m\u001b[1;33m]\u001b[0m\u001b[1;33m)\u001b[0m\u001b[1;33m)\u001b[0m\u001b[1;33m)\u001b[0m\u001b[1;33m\u001b[0m\u001b[1;33m\u001b[0m\u001b[0m\n\u001b[0;32m      6\u001b[0m \u001b[0mprint\u001b[0m\u001b[1;33m(\u001b[0m\u001b[0mint\u001b[0m\u001b[1;33m(\u001b[0m\u001b[0mmedian\u001b[0m\u001b[1;33m(\u001b[0m\u001b[0mx\u001b[0m\u001b[1;33m)\u001b[0m\u001b[1;33m)\u001b[0m\u001b[1;33m)\u001b[0m\u001b[1;33m\u001b[0m\u001b[1;33m\u001b[0m\u001b[0m\n\u001b[1;32m----> 7\u001b[1;33m \u001b[0mprint\u001b[0m\u001b[1;33m(\u001b[0m\u001b[0mint\u001b[0m\u001b[1;33m(\u001b[0m\u001b[0mmedian\u001b[0m\u001b[1;33m(\u001b[0m\u001b[0mx\u001b[0m\u001b[1;33m[\u001b[0m\u001b[1;33m(\u001b[0m\u001b[0mn\u001b[0m\u001b[1;33m+\u001b[0m\u001b[1;36m1\u001b[0m\u001b[1;33m)\u001b[0m\u001b[1;33m//\u001b[0m\u001b[1;36m2\u001b[0m\u001b[1;33m:\u001b[0m\u001b[1;33m]\u001b[0m\u001b[1;33m)\u001b[0m\u001b[1;33m)\u001b[0m\u001b[1;33m)\u001b[0m\u001b[1;33m\u001b[0m\u001b[1;33m\u001b[0m\u001b[0m\n\u001b[0m",
      "\u001b[1;32m~\\Anaconda3\\lib\\statistics.py\u001b[0m in \u001b[0;36mmedian\u001b[1;34m(data)\u001b[0m\n\u001b[0;32m    377\u001b[0m     \u001b[0mn\u001b[0m \u001b[1;33m=\u001b[0m \u001b[0mlen\u001b[0m\u001b[1;33m(\u001b[0m\u001b[0mdata\u001b[0m\u001b[1;33m)\u001b[0m\u001b[1;33m\u001b[0m\u001b[1;33m\u001b[0m\u001b[0m\n\u001b[0;32m    378\u001b[0m     \u001b[1;32mif\u001b[0m \u001b[0mn\u001b[0m \u001b[1;33m==\u001b[0m \u001b[1;36m0\u001b[0m\u001b[1;33m:\u001b[0m\u001b[1;33m\u001b[0m\u001b[1;33m\u001b[0m\u001b[0m\n\u001b[1;32m--> 379\u001b[1;33m         \u001b[1;32mraise\u001b[0m \u001b[0mStatisticsError\u001b[0m\u001b[1;33m(\u001b[0m\u001b[1;34m\"no median for empty data\"\u001b[0m\u001b[1;33m)\u001b[0m\u001b[1;33m\u001b[0m\u001b[1;33m\u001b[0m\u001b[0m\n\u001b[0m\u001b[0;32m    380\u001b[0m     \u001b[1;32mif\u001b[0m \u001b[0mn\u001b[0m\u001b[1;33m%\u001b[0m\u001b[1;36m2\u001b[0m \u001b[1;33m==\u001b[0m \u001b[1;36m1\u001b[0m\u001b[1;33m:\u001b[0m\u001b[1;33m\u001b[0m\u001b[1;33m\u001b[0m\u001b[0m\n\u001b[0;32m    381\u001b[0m         \u001b[1;32mreturn\u001b[0m \u001b[0mdata\u001b[0m\u001b[1;33m[\u001b[0m\u001b[0mn\u001b[0m\u001b[1;33m//\u001b[0m\u001b[1;36m2\u001b[0m\u001b[1;33m]\u001b[0m\u001b[1;33m\u001b[0m\u001b[1;33m\u001b[0m\u001b[0m\n",
      "\u001b[1;31mStatisticsError\u001b[0m: no median for empty data"
     ]
    }
   ],
   "source": [
    "n = int(input())\n",
    "x = sorted(list(map(int, input().split())))\n",
    "from statistics import median\n",
    "print(int(median(x[:n//2])))\n",
    "print(int(median(x)))\n",
    "print(int(median(x[(n+1)//2:])))"
   ]
  },
  {
   "cell_type": "markdown",
   "metadata": {},
   "source": [
    "# STANDARD DEVIATION"
   ]
  },
  {
   "cell_type": "code",
   "execution_count": 5,
   "metadata": {},
   "outputs": [
    {
     "name": "stdout",
     "output_type": "stream",
     "text": [
      "10\n",
      "5 4 8 7 9 2 3 6 1 5\n",
      "2.4\n"
     ]
    },
    {
     "data": {
      "text/plain": [
       "('10', None)"
      ]
     },
     "execution_count": 5,
     "metadata": {},
     "output_type": "execute_result"
    }
   ],
   "source": [
    "from statistics import pstdev\n",
    "input(), print(round(pstdev(map(int,input().split())), 1))"
   ]
  },
  {
   "cell_type": "code",
   "execution_count": 6,
   "metadata": {},
   "outputs": [
    {
     "name": "stdout",
     "output_type": "stream",
     "text": [
      "10\n",
      "5 4 8 7 9 2 3 6 1 5\n",
      "2.4\n"
     ]
    }
   ],
   "source": [
    "import math\n",
    "if __name__==\"__main__\":\n",
    "    n=int(input())\n",
    "    x=list(map(int,input().split()))\n",
    "    sum1=0.0\n",
    "    for i in range(0,n):\n",
    "        sum1 += x[i]\n",
    "    mean = sum1/n\n",
    "    num=0.0\n",
    "    for i in range(0,n):\n",
    "        num += (x[i]-mean)**2\n",
    "    result = math.sqrt(num/n)\n",
    "    print(round(result,1))"
   ]
  },
  {
   "cell_type": "markdown",
   "metadata": {},
   "source": [
    "# INTER QUARTILES RANGE"
   ]
  },
  {
   "cell_type": "code",
   "execution_count": null,
   "metadata": {},
   "outputs": [],
   "source": [
    "import statistics as st\n",
    "\n",
    "n = int(input())\n",
    "data = list(map(int, input().split()))\n",
    "freq = list(map(int, input().split()))\n",
    "\n",
    "s = []\n",
    "for i in range(n):\n",
    "    s += [data[i]] * freq[i]\n",
    "N = sum(freq)\n",
    "print(s)\n",
    "s.sort()\n",
    "\n",
    "if n%2 != 0:\n",
    "    q1 = st.median(s[:N//2])\n",
    "    q3 = st.median(s[N//2+1:])\n",
    "else:\n",
    "    q1 = st.median(s[:N//2])\n",
    "    q3 = st.median(s[N//2:])\n",
    "\n",
    "ir = round(float(q3-q1), 1)\n",
    "print(ir)"
   ]
  },
  {
   "cell_type": "code",
   "execution_count": 9,
   "metadata": {},
   "outputs": [
    {
     "name": "stdout",
     "output_type": "stream",
     "text": [
      "5 \n",
      "5 4 6 7 8 \n",
      "1 2 5 6 4 \n",
      "1.0\n"
     ]
    }
   ],
   "source": [
    "import statistics as st\n",
    "\n",
    "n = int(input())\n",
    "data = list(map(int, input().split()))\n",
    "freq = list(map(int, input().split()))\n",
    "\n",
    "s = []\n",
    "for i in range(n):\n",
    "    s += [data[i]] * freq[i]\n",
    "N = sum(freq)\n",
    "s.sort()\n",
    "\n",
    "q1 = st.median(s[:N//2])\n",
    "q3 = st.median(s[(N+1)//2:])\n",
    "    \n",
    "\n",
    "ir = round(float(q3-q1), 1)\n",
    "print(ir)"
   ]
  },
  {
   "cell_type": "code",
   "execution_count": 7,
   "metadata": {},
   "outputs": [
    {
     "name": "stdout",
     "output_type": "stream",
     "text": [
      "5\n",
      "5 4 6 7 8\n",
      "1 2 5 6 4\n",
      "1.0\n"
     ]
    }
   ],
   "source": [
    "def median_function(a,b):\n",
    "    l1=list()\n",
    "    l2=list()\n",
    "    result=list()\n",
    "    if a%2!=0:\n",
    "        temp=float(b[a//2])\n",
    "        l1=b[:a//2]\n",
    "        l2=b[(a//2)+1:]\n",
    "        result=[temp,l1,l2]\n",
    "        return result\n",
    "    else:\n",
    "        temp=float((b[(a//2)-1]+b[a//2])/2)\n",
    "        l1=b[:(a//2)]\n",
    "        l2=b[(a//2):]\n",
    "        result=[temp,l1,l2]\n",
    "        return result\n",
    "\n",
    "if __name__==\"__main__\":\n",
    "    n=int(input())\n",
    "    x=list(map(int,input().split()))\n",
    "    f=list(map(int,input().split()))\n",
    "    fl=list()\n",
    "    i=0\n",
    "    j=0\n",
    "    while(sum(f)>0):\n",
    "        if(f[j]>0):\n",
    "            fl.append(x[i])\n",
    "            f[j]-=1\n",
    "        else:\n",
    "            j+=1\n",
    "            i+=1\n",
    "    fl.sort()\n",
    "    q2=median_function(len(fl),fl)\n",
    "    q1=median_function(len(q2[1]),q2[1])\n",
    "    q3=median_function(len(q2[2]),q2[2])\n",
    "    print(round(q3[0]-q1[0],1))"
   ]
  },
  {
   "cell_type": "markdown",
   "metadata": {},
   "source": [
    "# BINOMIAL DISTRIBUTION I"
   ]
  },
  {
   "cell_type": "code",
   "execution_count": 1,
   "metadata": {},
   "outputs": [
    {
     "name": "stdout",
     "output_type": "stream",
     "text": [
      "1.09 1\n",
      "0.696\n"
     ]
    }
   ],
   "source": [
    "import math as m\n",
    "def ba(x,p,q,y):\n",
    "    a1 = m.factorial(x)/(m.factorial(y)*m.factorial(x-y))\n",
    "    b1 = (p/(p+q))**y\n",
    "    c1 = (q/(p+q))**(x-y)\n",
    "    return a1*b1*c1\n",
    "if __name__=='__main__':\n",
    "    a,b = map(float,input().split())\n",
    "    res=0\n",
    "    for i in range(3,7):\n",
    "        res+=ba(6,a,b,i)\n",
    "    print(round(res,3))"
   ]
  },
  {
   "cell_type": "code",
   "execution_count": 2,
   "metadata": {},
   "outputs": [
    {
     "name": "stdout",
     "output_type": "stream",
     "text": [
      "0.696\n"
     ]
    }
   ],
   "source": [
    "import math\n",
    "\n",
    "def bi_dist(x, n, p):\n",
    "    b = (math.factorial(n)/(math.factorial(x)*math.factorial(n-x)))*(p**x)*((1-p)**(n-x))\n",
    "    return(b)\n",
    "\n",
    "b, p, n = 0, 1.09/2.09, 6\n",
    "for i in range(3,7):\n",
    "    b += bi_dist(i, n, p)   \n",
    "print(\"%.3f\" %b)"
   ]
  },
  {
   "cell_type": "markdown",
   "metadata": {},
   "source": [
    "# BINOMIAL DISTRIBUTION II"
   ]
  },
  {
   "cell_type": "code",
   "execution_count": 3,
   "metadata": {},
   "outputs": [
    {
     "name": "stdout",
     "output_type": "stream",
     "text": [
      "12 10\n",
      "0.891\n",
      "0.342\n"
     ]
    }
   ],
   "source": [
    "import math as m\n",
    "def ba(y,p,q):\n",
    "    a1 = m.factorial(q)/(m.factorial(y)*m.factorial(q-y))\n",
    "    b1 = (p/100)**y\n",
    "    c1 = ((100-p)/100)**(q-y)\n",
    "    return a1*b1*c1\n",
    "if __name__=='__main__':\n",
    "    a,b = map(float,input().split())\n",
    "    res1=0\n",
    "    res2=0\n",
    "    for i in range(3):\n",
    "        res1+=ba(i,a,b)\n",
    "    print(round(res1,3))\n",
    "    for i in range(2,11):\n",
    "        res2+=ba(i,a,b)\n",
    "    print(round(res2,3))"
   ]
  },
  {
   "cell_type": "code",
   "execution_count": 4,
   "metadata": {},
   "outputs": [
    {
     "name": "stdout",
     "output_type": "stream",
     "text": [
      "12 10\n",
      "0.891\n",
      "0.342\n"
     ]
    }
   ],
   "source": [
    "def fact(n):\n",
    "    return 1 if n == 0 else n*fact(n-1)\n",
    "\n",
    "def comb(n, x):\n",
    "    return fact(n) / (fact(x) * fact(n-x))\n",
    "\n",
    "def b(x, n, p):\n",
    "    return comb(n, x) * p**x * (1-p)**(n-x)\n",
    "\n",
    "p, n = list(map(int, input().split(\" \")))\n",
    "print(round(sum([b(i, n, p/100) for i in range(3)]), 3))\n",
    "print(round(sum([b(i, n, p/100) for i in range(2, n+1)]), 3))"
   ]
  },
  {
   "cell_type": "markdown",
   "metadata": {},
   "source": [
    "# Geometric Distribution I (or) Negative Binomial experiment(special case)"
   ]
  },
  {
   "cell_type": "code",
   "execution_count": 5,
   "metadata": {},
   "outputs": [
    {
     "name": "stdout",
     "output_type": "stream",
     "text": [
      "1 3 \n",
      "5\n",
      "0.066\n"
     ]
    }
   ],
   "source": [
    "n,d =map(int,input().split())\n",
    "x=int(input())\n",
    "print(round(pow(1-(n/d),x-1)*(n/d),3))"
   ]
  },
  {
   "cell_type": "markdown",
   "metadata": {},
   "source": [
    "# upto 5 inspections"
   ]
  },
  {
   "cell_type": "code",
   "execution_count": 6,
   "metadata": {},
   "outputs": [
    {
     "name": "stdout",
     "output_type": "stream",
     "text": [
      "0.868\n"
     ]
    }
   ],
   "source": [
    "print(round(sum([(1 - (1 / 3))**(5 - x) * (1 / 3) for x in range(1, 6)]), 3))"
   ]
  },
  {
   "cell_type": "markdown",
   "metadata": {},
   "source": [
    "# Poisson Distribution I"
   ]
  },
  {
   "cell_type": "code",
   "execution_count": 7,
   "metadata": {},
   "outputs": [
    {
     "name": "stdout",
     "output_type": "stream",
     "text": [
      "2.5\n",
      "5\n",
      "0.067\n"
     ]
    }
   ],
   "source": [
    "from math import factorial,exp\n",
    "miu = float(input())\n",
    "k = int(input())\n",
    "res= ((miu**k)*exp(-miu))/factorial(k)\n",
    "print(round(res,3))"
   ]
  },
  {
   "cell_type": "code",
   "execution_count": 8,
   "metadata": {},
   "outputs": [
    {
     "name": "stdout",
     "output_type": "stream",
     "text": [
      "2.5\n",
      "5\n",
      "0.067\n"
     ]
    }
   ],
   "source": [
    "from math import factorial, exp\n",
    "\n",
    "miu = float(input())\n",
    "x = int(input())\n",
    "poisson_prob = ((miu ** x) * exp(-miu)) / factorial(x)\n",
    "print(\"%.3f\" %poisson_prob)"
   ]
  },
  {
   "cell_type": "markdown",
   "metadata": {},
   "source": [
    "# Poisson Distribution II"
   ]
  },
  {
   "cell_type": "code",
   "execution_count": 9,
   "metadata": {},
   "outputs": [
    {
     "name": "stdout",
     "output_type": "stream",
     "text": [
      "0.88 1.55\n",
      "226.176\n",
      "286.1\n"
     ]
    }
   ],
   "source": [
    "a,b = map(float,input().split())\n",
    "print(round(160+(40*(a+pow(a,2))),3))\n",
    "print(round(128+(40*(b+pow(b,2))),3))"
   ]
  },
  {
   "cell_type": "markdown",
   "metadata": {},
   "source": [
    "# Normal Distribution I"
   ]
  },
  {
   "cell_type": "code",
   "execution_count": 10,
   "metadata": {},
   "outputs": [
    {
     "name": "stdout",
     "output_type": "stream",
     "text": [
      "20 2\n",
      "19.5\n",
      "20 22\n",
      "0.401\n",
      "0.341\n"
     ]
    }
   ],
   "source": [
    "from math import erf as e,sqrt\n",
    "mean, std = map(int,input().split())\n",
    "q1=float(input())\n",
    "q2,q3=map(float,input().split())\n",
    "cdf = lambda x: 0.5*(1+e((x-mean)/(std*sqrt(2))))\n",
    "print(round(cdf(q1),3))\n",
    "print(round(cdf(q3)-cdf(q2),3))"
   ]
  },
  {
   "cell_type": "markdown",
   "metadata": {},
   "source": [
    "# Normal Distribution II"
   ]
  },
  {
   "cell_type": "code",
   "execution_count": 11,
   "metadata": {},
   "outputs": [
    {
     "name": "stdout",
     "output_type": "stream",
     "text": [
      "15.87\n",
      "84.13\n",
      "15.87\n"
     ]
    }
   ],
   "source": [
    "mean, std = 70, 10\n",
    "cdf = lambda x: 0.5 * (1 + math.erf((x - mean) / (std * (2 ** 0.5))))\n",
    "\n",
    "\n",
    "print(round((1-cdf(80))*100,2))\n",
    "print(round((1-cdf(60))*100,2))\n",
    "print(round((cdf(60))*100,2))"
   ]
  },
  {
   "cell_type": "code",
   "execution_count": null,
   "metadata": {},
   "outputs": [],
   "source": []
  }
 ],
 "metadata": {
  "kernelspec": {
   "display_name": "Python 3",
   "language": "python",
   "name": "python3"
  },
  "language_info": {
   "codemirror_mode": {
    "name": "ipython",
    "version": 3
   },
   "file_extension": ".py",
   "mimetype": "text/x-python",
   "name": "python",
   "nbconvert_exporter": "python",
   "pygments_lexer": "ipython3",
   "version": "3.7.4"
  }
 },
 "nbformat": 4,
 "nbformat_minor": 2
}
